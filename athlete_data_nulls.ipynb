{
 "cells": [
  {
   "cell_type": "markdown",
   "id": "23666ca7-a613-4754-8238-b8d5ae819fd4",
   "metadata": {},
   "source": [
    "### Null Values in a Dataset\n",
    "###### Compiled by Gabriella Cerrai\n",
    "\n",
    "##### When working with datasets, more often than not, the data is 'dirty' and often there are missing field values. As a first line of action, a data analyst must decide what to do with null values before proceeding with the analysis. \n",
    "##### The dataset contains the following variables: \n",
    "##### **Lean Body Mass** (LBM), **Sex** (0: males, 1: females), **Ht** (height in cm), **Wt** (weight in kg), **WCC** (white cell count), **Hg** (hemoglobin) and **Hc** (hematocrit). We will focus on an *adjusted version* of the dataset - where height (**Ht**) and weight (**Wt**) values for both males and females have been removed from the dataset at random. The focus of this notebook will be on methods that can be used to address the null values in the adjusted dataset. \n",
    "\n",
    "##### In this notebook we will explore 3 different methods of tackling missing or null values in a dataset, namely: \n",
    "#####     1. Populating the null values using industry standards for average height and weight for both male and female athletes\n",
    "#####     2. Removing the null values from the dataset\n",
    "#####     3. Extrapolation of missing height and weight values using average Body Mass Index (BMI) values for both male and female athletes\n",
    "\n",
    "##### For each method, we will calculate the average height and weight for male and females after populating (or removing) the null values to assess how these values compare to those of the full dataset."
   ]
  },
  {
   "cell_type": "code",
   "execution_count": 1,
   "id": "65bbab15-d05a-49b1-ad39-c5eff83daf4e",
   "metadata": {},
   "outputs": [],
   "source": [
    "# import packages\n",
    "import numpy as np \n",
    "import pandas as pd \n",
    "import warnings\n",
    "warnings.filterwarnings('ignore')"
   ]
  },
  {
   "cell_type": "markdown",
   "id": "da0a29b7-f909-4d26-95bd-34fd78347837",
   "metadata": {},
   "source": [
    "##### First, we will read in the full dataset and calculate average height and weight for males and females:"
   ]
  },
  {
   "cell_type": "code",
   "execution_count": 2,
   "id": "dc2c53b8-655d-473a-b9cd-0a6d70beabe9",
   "metadata": {},
   "outputs": [
    {
     "data": {
      "text/html": [
       "<div>\n",
       "<style scoped>\n",
       "    .dataframe tbody tr th:only-of-type {\n",
       "        vertical-align: middle;\n",
       "    }\n",
       "\n",
       "    .dataframe tbody tr th {\n",
       "        vertical-align: top;\n",
       "    }\n",
       "\n",
       "    .dataframe thead th {\n",
       "        text-align: right;\n",
       "    }\n",
       "</style>\n",
       "<table border=\"1\" class=\"dataframe\">\n",
       "  <thead>\n",
       "    <tr style=\"text-align: right;\">\n",
       "      <th></th>\n",
       "      <th>Sex</th>\n",
       "      <th>Ht</th>\n",
       "      <th>Wt</th>\n",
       "      <th>LBM</th>\n",
       "      <th>WCC</th>\n",
       "      <th>Hc</th>\n",
       "      <th>Hg</th>\n",
       "    </tr>\n",
       "  </thead>\n",
       "  <tbody>\n",
       "    <tr>\n",
       "      <th>0</th>\n",
       "      <td>1</td>\n",
       "      <td>195.9</td>\n",
       "      <td>78.9</td>\n",
       "      <td>63.32</td>\n",
       "      <td>7.5</td>\n",
       "      <td>37.5</td>\n",
       "      <td>12.3</td>\n",
       "    </tr>\n",
       "    <tr>\n",
       "      <th>1</th>\n",
       "      <td>1</td>\n",
       "      <td>189.7</td>\n",
       "      <td>74.4</td>\n",
       "      <td>58.55</td>\n",
       "      <td>8.3</td>\n",
       "      <td>38.2</td>\n",
       "      <td>12.7</td>\n",
       "    </tr>\n",
       "    <tr>\n",
       "      <th>2</th>\n",
       "      <td>1</td>\n",
       "      <td>177.8</td>\n",
       "      <td>69.1</td>\n",
       "      <td>55.36</td>\n",
       "      <td>5.0</td>\n",
       "      <td>36.4</td>\n",
       "      <td>11.6</td>\n",
       "    </tr>\n",
       "    <tr>\n",
       "      <th>3</th>\n",
       "      <td>1</td>\n",
       "      <td>185.0</td>\n",
       "      <td>74.9</td>\n",
       "      <td>57.18</td>\n",
       "      <td>5.3</td>\n",
       "      <td>37.3</td>\n",
       "      <td>12.6</td>\n",
       "    </tr>\n",
       "    <tr>\n",
       "      <th>4</th>\n",
       "      <td>1</td>\n",
       "      <td>184.6</td>\n",
       "      <td>64.6</td>\n",
       "      <td>53.20</td>\n",
       "      <td>6.8</td>\n",
       "      <td>41.5</td>\n",
       "      <td>14.0</td>\n",
       "    </tr>\n",
       "  </tbody>\n",
       "</table>\n",
       "</div>"
      ],
      "text/plain": [
       "   Sex     Ht    Wt    LBM  WCC    Hc    Hg\n",
       "0    1  195.9  78.9  63.32  7.5  37.5  12.3\n",
       "1    1  189.7  74.4  58.55  8.3  38.2  12.7\n",
       "2    1  177.8  69.1  55.36  5.0  36.4  11.6\n",
       "3    1  185.0  74.9  57.18  5.3  37.3  12.6\n",
       "4    1  184.6  64.6  53.20  6.8  41.5  14.0"
      ]
     },
     "execution_count": 2,
     "metadata": {},
     "output_type": "execute_result"
    }
   ],
   "source": [
    "# read in the full data set (with no null values) \n",
    "data_full = pd.read_excel('athlete_data_full.xlsx')\n",
    "data_full.head()"
   ]
  },
  {
   "cell_type": "code",
   "execution_count": 3,
   "id": "25fa3fc0-be00-40d2-afa6-e678dc259c8b",
   "metadata": {},
   "outputs": [
    {
     "data": {
      "text/plain": [
       "Sex    0\n",
       "Ht     0\n",
       "Wt     0\n",
       "LBM    0\n",
       "WCC    0\n",
       "Hc     0\n",
       "Hg     0\n",
       "dtype: int64"
      ]
     },
     "execution_count": 3,
     "metadata": {},
     "output_type": "execute_result"
    }
   ],
   "source": [
    "data_full.isnull().sum()"
   ]
  },
  {
   "cell_type": "code",
   "execution_count": 4,
   "id": "f2b7db7d-78be-41ba-ad57-0db5b3d1157f",
   "metadata": {},
   "outputs": [],
   "source": [
    "# split the dataset\n",
    "data_full_male = data_full[data_full['Sex'] == 0] \n",
    "data_full_female = data_full[data_full['Sex'] == 1] "
   ]
  },
  {
   "cell_type": "code",
   "execution_count": 5,
   "id": "4315f0ed-7aad-40dd-9cff-c81caa9c652c",
   "metadata": {},
   "outputs": [
    {
     "name": "stdout",
     "output_type": "stream",
     "text": [
      "Average Height for Males: 185.5 cm and Average Weight for Males: 82.5 kg\n"
     ]
    }
   ],
   "source": [
    "# average height and weight for males:\n",
    "avg_male_height = data_full_male['Ht'].mean().round(1)\n",
    "avg_male_weight = data_full_male['Wt'].mean().round(1)\n",
    "print('Average Height for Males:', avg_male_height, 'cm', 'and Average Weight for Males:', avg_male_weight, 'kg')"
   ]
  },
  {
   "cell_type": "code",
   "execution_count": 6,
   "id": "3b100e53-e619-4a18-99bf-05b12268188d",
   "metadata": {},
   "outputs": [
    {
     "name": "stdout",
     "output_type": "stream",
     "text": [
      "Average Height for Females: 174.6 cm and Average Weight for Females: 67.3 kg\n"
     ]
    }
   ],
   "source": [
    "# average height and weight for females:\n",
    "avg_female_height = data_full_female['Ht'].mean().round(1)\n",
    "avg_female_weight = data_full_female['Wt'].mean().round(1)\n",
    "print('Average Height for Females:', avg_female_height, 'cm', 'and Average Weight for Females:', avg_female_weight, 'kg')"
   ]
  },
  {
   "cell_type": "markdown",
   "id": "e0a2b43d-f37a-458b-b5eb-e2ecaec987cd",
   "metadata": {},
   "source": [
    "##### Next, read in the data will null values:"
   ]
  },
  {
   "cell_type": "code",
   "execution_count": 7,
   "id": "3099728e-45dd-4cdb-a9a0-c1da7ecb530d",
   "metadata": {},
   "outputs": [],
   "source": [
    "# read in the adjusted data set with null values, split into 2 datasets (one for males, one for females)\n",
    "data_nulls = pd.read_excel('athlete_data_nulls.xlsx')"
   ]
  },
  {
   "cell_type": "code",
   "execution_count": 8,
   "id": "3493538f-3781-4f7a-aa0a-c66323589fbc",
   "metadata": {},
   "outputs": [
    {
     "data": {
      "text/plain": [
       "Sex     0\n",
       "Ht     16\n",
       "Wt     16\n",
       "LBM     0\n",
       "WCC     0\n",
       "Hc      0\n",
       "Hg      0\n",
       "dtype: int64"
      ]
     },
     "execution_count": 8,
     "metadata": {},
     "output_type": "execute_result"
    }
   ],
   "source": [
    "data_nulls.isnull().sum()"
   ]
  },
  {
   "cell_type": "code",
   "execution_count": 9,
   "id": "239be087-90a6-4f57-a86b-5103dae957af",
   "metadata": {},
   "outputs": [],
   "source": [
    "# split the dataset\n",
    "data_nulls_male = data_nulls[data_nulls['Sex'] == 0]\n",
    "data_nulls_female = data_nulls[data_nulls['Sex'] == 1]"
   ]
  },
  {
   "cell_type": "markdown",
   "id": "91b0df98-7f5f-4fda-946e-3539f4c2f977",
   "metadata": {},
   "source": [
    "#### Method 1: \n",
    "##### Populating nulls with the average height and weight values for male and female athletes. For the purpose of this exercise, the average values used are those of *Olympic Athletes in 2016*. Height values are in cm and weight values are in kg. \n",
    "\n",
    "##### The values used below can be found in the following article: https://www.topendsports.com/events/summer/science/anthropometry-2016.htm"
   ]
  },
  {
   "cell_type": "code",
   "execution_count": 10,
   "id": "6223f980-dc0e-460d-804a-7f43dc65b149",
   "metadata": {},
   "outputs": [],
   "source": [
    "avg_olympic_height_male = 182\n",
    "avg_olympic_weight_male = 80.1\n",
    "avg_olympic_height_female = 170\n",
    "avg_olympic_weight_female = 62.6"
   ]
  },
  {
   "cell_type": "code",
   "execution_count": 11,
   "id": "de137b26-fa22-487e-9834-dfe63df4bffc",
   "metadata": {},
   "outputs": [],
   "source": [
    "# fill null values\n",
    "data_nulls_male['Ht'] = data_nulls_male['Ht'].fillna(avg_olympic_height_male)\n",
    "data_nulls_male['Wt'] = data_nulls_male['Wt'].fillna(avg_olympic_weight_male)\n",
    "data_nulls_female['Ht'] = data_nulls_female['Ht'].fillna(avg_olympic_height_female)\n",
    "data_nulls_female['Wt'] = data_nulls_female['Wt'].fillna(avg_olympic_weight_female)"
   ]
  },
  {
   "cell_type": "code",
   "execution_count": 12,
   "id": "ea71451d-b21a-4388-8050-720d3c75c8c9",
   "metadata": {},
   "outputs": [
    {
     "data": {
      "text/plain": [
       "Sex    0\n",
       "Ht     0\n",
       "Wt     0\n",
       "LBM    0\n",
       "WCC    0\n",
       "Hc     0\n",
       "Hg     0\n",
       "dtype: int64"
      ]
     },
     "execution_count": 12,
     "metadata": {},
     "output_type": "execute_result"
    }
   ],
   "source": [
    "data_nulls_male.isnull().sum()"
   ]
  },
  {
   "cell_type": "code",
   "execution_count": 13,
   "id": "6133b286-d6a6-4600-9170-beac84bd204d",
   "metadata": {},
   "outputs": [
    {
     "data": {
      "text/plain": [
       "Sex    0\n",
       "Ht     0\n",
       "Wt     0\n",
       "LBM    0\n",
       "WCC    0\n",
       "Hc     0\n",
       "Hg     0\n",
       "dtype: int64"
      ]
     },
     "execution_count": 13,
     "metadata": {},
     "output_type": "execute_result"
    }
   ],
   "source": [
    "data_nulls_female.isnull().sum()"
   ]
  },
  {
   "cell_type": "code",
   "execution_count": 14,
   "id": "c19927fd-0a77-4b65-8b2d-8a219c74e39b",
   "metadata": {},
   "outputs": [
    {
     "data": {
      "text/plain": [
       "Ht    185.0\n",
       "Wt     81.9\n",
       "dtype: float64"
      ]
     },
     "execution_count": 14,
     "metadata": {},
     "output_type": "execute_result"
    }
   ],
   "source": [
    "# average height and weight for males: \n",
    "data_nulls_male[['Ht', 'Wt']].mean().round(1)"
   ]
  },
  {
   "cell_type": "code",
   "execution_count": 15,
   "id": "253bcbc0-d0d2-4ead-a8df-a0a995ebb5ba",
   "metadata": {},
   "outputs": [
    {
     "data": {
      "text/plain": [
       "Ht    174.3\n",
       "Wt     67.1\n",
       "dtype: float64"
      ]
     },
     "execution_count": 15,
     "metadata": {},
     "output_type": "execute_result"
    }
   ],
   "source": [
    "# average height and weight for females:\n",
    "data_nulls_female[['Ht', 'Wt']].mean().round(1)"
   ]
  },
  {
   "cell_type": "markdown",
   "id": "06caecb6-66d5-4614-bba0-3208d990f5b5",
   "metadata": {},
   "source": [
    "#### Method 2: \n",
    "##### Removing null values from the dataset"
   ]
  },
  {
   "cell_type": "code",
   "execution_count": 16,
   "id": "edddbde0-fe80-44f6-ba38-e4dac1bb8903",
   "metadata": {},
   "outputs": [],
   "source": [
    "# read in data set with nulls and split dataset\n",
    "data_nulls_2 = pd.read_excel('athlete_data_nulls.xlsx')\n",
    "data_nulls_male_2 = data_nulls_2[data_nulls_2['Sex'] == 0]\n",
    "data_nulls_female_2 = data_nulls_2[data_nulls_2['Sex'] == 1]"
   ]
  },
  {
   "cell_type": "code",
   "execution_count": 17,
   "id": "ebcfbcfa-bb31-4126-b932-fe9b954af65f",
   "metadata": {},
   "outputs": [
    {
     "data": {
      "text/plain": [
       "Sex    0\n",
       "Ht     6\n",
       "Wt     7\n",
       "LBM    0\n",
       "WCC    0\n",
       "Hc     0\n",
       "Hg     0\n",
       "dtype: int64"
      ]
     },
     "execution_count": 17,
     "metadata": {},
     "output_type": "execute_result"
    }
   ],
   "source": [
    "data_nulls_male_2.isnull().sum()"
   ]
  },
  {
   "cell_type": "code",
   "execution_count": 18,
   "id": "b8f4d8b8-b89b-4ebd-b658-3259d400e596",
   "metadata": {},
   "outputs": [
    {
     "data": {
      "text/plain": [
       "Sex     0\n",
       "Ht     10\n",
       "Wt      9\n",
       "LBM     0\n",
       "WCC     0\n",
       "Hc      0\n",
       "Hg      0\n",
       "dtype: int64"
      ]
     },
     "execution_count": 18,
     "metadata": {},
     "output_type": "execute_result"
    }
   ],
   "source": [
    "data_nulls_female_2.isnull().sum()"
   ]
  },
  {
   "cell_type": "code",
   "execution_count": 19,
   "id": "35afbc02-b7d9-4475-9ef3-7ec2e41e4c70",
   "metadata": {},
   "outputs": [],
   "source": [
    "# drop nulls:\n",
    "data_nulls_male_dropped = data_nulls_male_2.dropna(axis = 0)\n",
    "data_nulls_female_dropped = data_nulls_female_2.dropna(axis = 0)"
   ]
  },
  {
   "cell_type": "code",
   "execution_count": 20,
   "id": "16fd0055-63e0-407b-ba08-855402610e1c",
   "metadata": {},
   "outputs": [
    {
     "data": {
      "text/plain": [
       "Sex    0\n",
       "Ht     0\n",
       "Wt     0\n",
       "LBM    0\n",
       "WCC    0\n",
       "Hc     0\n",
       "Hg     0\n",
       "dtype: int64"
      ]
     },
     "execution_count": 20,
     "metadata": {},
     "output_type": "execute_result"
    }
   ],
   "source": [
    "data_nulls_male_dropped.isnull().sum()"
   ]
  },
  {
   "cell_type": "code",
   "execution_count": 21,
   "id": "fd21cb96-c3df-4870-8fbf-200240c54ef6",
   "metadata": {},
   "outputs": [
    {
     "data": {
      "text/plain": [
       "Sex    0\n",
       "Ht     0\n",
       "Wt     0\n",
       "LBM    0\n",
       "WCC    0\n",
       "Hc     0\n",
       "Hg     0\n",
       "dtype: int64"
      ]
     },
     "execution_count": 21,
     "metadata": {},
     "output_type": "execute_result"
    }
   ],
   "source": [
    "data_nulls_female_dropped.isnull().sum()"
   ]
  },
  {
   "cell_type": "code",
   "execution_count": 22,
   "id": "453c1faf-d383-4003-8d48-c59d31367f0e",
   "metadata": {},
   "outputs": [],
   "source": [
    "avg_height_males_2   = data_nulls_male_dropped['Ht'].mean().round(1)\n",
    "avg_weight_males_2   = data_nulls_male_dropped['Wt'].mean().round(1)\n",
    "avg_height_females_2 = data_nulls_female_dropped['Ht'].mean().round(1)\n",
    "avg_weight_females_2 = data_nulls_female_dropped['Wt'].mean().round(1)"
   ]
  },
  {
   "cell_type": "markdown",
   "id": "614b3b99-6fad-409b-99ca-a7de6b94f234",
   "metadata": {},
   "source": [
    "#### Method 3:\n",
    "##### In this final method, we will take an interesting approach by calculating missing height and weight values via a calculation using an average Body Mass Index (BMI) for both male and female athletes. \n",
    "\n",
    "##### The BMI values used below can be found in the following study: https://pmc.ncbi.nlm.nih.gov/articles/PMC6239137/"
   ]
  },
  {
   "cell_type": "code",
   "execution_count": 23,
   "id": "728f843f-e441-4bff-ae7d-d3302793d1b7",
   "metadata": {},
   "outputs": [],
   "source": [
    "data_nulls_3 = pd.read_excel('athlete_data_nulls.xlsx')"
   ]
  },
  {
   "cell_type": "code",
   "execution_count": 24,
   "id": "966538f2-6b66-47c2-a773-41bc0ac7668d",
   "metadata": {},
   "outputs": [
    {
     "data": {
      "text/plain": [
       "Sex     0\n",
       "Ht     16\n",
       "Wt     16\n",
       "LBM     0\n",
       "WCC     0\n",
       "Hc      0\n",
       "Hg      0\n",
       "dtype: int64"
      ]
     },
     "execution_count": 24,
     "metadata": {},
     "output_type": "execute_result"
    }
   ],
   "source": [
    "data_nulls_3.isnull().sum()"
   ]
  },
  {
   "cell_type": "code",
   "execution_count": 25,
   "id": "f76a10a2-161c-4bd0-b8d4-fb26bbbd345c",
   "metadata": {},
   "outputs": [],
   "source": [
    "# assign BMI values for males and females\n",
    "bmi_avg_males = 23.6\n",
    "bmi_avg_females = 22.4\n",
    "\n",
    "# define a function to calculate height:\n",
    "def bmi_calc_height(weight, bmi):\n",
    "    height = (np.sqrt(weight/bmi)) * 100 \n",
    "    return height\n",
    "\n",
    "# define a function to calculate weight:\n",
    "def bmi_calc_weight(height, bmi):\n",
    "    height /= 100 \n",
    "    weight = bmi * (height)**2\n",
    "    return weight\n",
    "\n",
    "\n",
    "for row in data_nulls_3.itertuples():\n",
    "    # loop through all rows in data set, assign an avg BMI value according to male/female\n",
    "    if row.Sex == 0:\n",
    "        bmi = bmi_avg_males\n",
    "    elif row.Sex == 1: \n",
    "        bmi = bmi_avg_females\n",
    "        \n",
    "    if pd.isnull(row.Ht):\n",
    "    # checks if height value in each row is null, then call function that calculates height\n",
    "        weight = row.Wt\n",
    "        height = bmi_calc_height(weight, bmi)\n",
    "        data_nulls_3.at[row.Index, 'Ht'] = height # update height value in dataframe\n",
    "\n",
    "    if pd.isnull(row.Wt):\n",
    "    # checks if weight value in each row is null, then call function that calculates weight\n",
    "        height = row.Ht\n",
    "        weight = bmi_calc_weight(height, bmi)\n",
    "        data_nulls_3.at[row.Index, 'Wt'] = weight  # update weight value in dataframe\n",
    "\n",
    "# print(round(data_nulls_3, 1))"
   ]
  },
  {
   "cell_type": "code",
   "execution_count": 26,
   "id": "2046a692-fa76-4c67-beb3-318948bf4084",
   "metadata": {},
   "outputs": [
    {
     "data": {
      "text/plain": [
       "Sex    0\n",
       "Ht     0\n",
       "Wt     0\n",
       "LBM    0\n",
       "WCC    0\n",
       "Hc     0\n",
       "Hg     0\n",
       "dtype: int64"
      ]
     },
     "execution_count": 26,
     "metadata": {},
     "output_type": "execute_result"
    }
   ],
   "source": [
    "data_nulls_3.isnull().sum()"
   ]
  },
  {
   "cell_type": "code",
   "execution_count": 27,
   "id": "58ec1aba-5f01-4c6e-b889-e31d3b795e60",
   "metadata": {},
   "outputs": [],
   "source": [
    "avg_height_males_3   = data_nulls_3['Ht'][data_nulls_3['Sex'] == 0].mean().round(1)\n",
    "avg_weight_males_3   = data_nulls_3['Wt'][data_nulls_3['Sex'] == 0].mean().round(1)\n",
    "avg_height_females_3 = data_nulls_3['Ht'][data_nulls_3['Sex'] == 1].mean().round(1)\n",
    "avg_weight_females_3 = data_nulls_3['Wt'][data_nulls_3['Sex'] == 1].mean().round(1)"
   ]
  },
  {
   "cell_type": "markdown",
   "id": "1e7faea2-2f4d-4bc1-81d3-26c1734006f6",
   "metadata": {},
   "source": [
    "#### Results: \n",
    "##### Finally, we will compile all of the calculated averages for each method into dataframes for comparison with the original data set. As seen below, the average weight and height values for both male and female athletes for all 3 methods closely align with those values of the original dataset."
   ]
  },
  {
   "cell_type": "code",
   "execution_count": 28,
   "id": "793b29d0-7501-47ae-a1da-9834d7437ee2",
   "metadata": {},
   "outputs": [
    {
     "data": {
      "text/html": [
       "<div>\n",
       "<style scoped>\n",
       "    .dataframe tbody tr th:only-of-type {\n",
       "        vertical-align: middle;\n",
       "    }\n",
       "\n",
       "    .dataframe tbody tr th {\n",
       "        vertical-align: top;\n",
       "    }\n",
       "\n",
       "    .dataframe thead th {\n",
       "        text-align: right;\n",
       "    }\n",
       "</style>\n",
       "<table border=\"1\" class=\"dataframe\">\n",
       "  <thead>\n",
       "    <tr style=\"text-align: right;\">\n",
       "      <th></th>\n",
       "      <th>Features</th>\n",
       "      <th>Original Dataset</th>\n",
       "      <th>Method 1</th>\n",
       "      <th>Method 2</th>\n",
       "      <th>Method 3</th>\n",
       "    </tr>\n",
       "  </thead>\n",
       "  <tbody>\n",
       "    <tr>\n",
       "      <th>0</th>\n",
       "      <td>Average Male Height (cm)</td>\n",
       "      <td>185.5</td>\n",
       "      <td>185.0</td>\n",
       "      <td>184.8</td>\n",
       "      <td>185.3</td>\n",
       "    </tr>\n",
       "    <tr>\n",
       "      <th>1</th>\n",
       "      <td>Average Male Weight (kg)</td>\n",
       "      <td>82.5</td>\n",
       "      <td>81.9</td>\n",
       "      <td>82.0</td>\n",
       "      <td>82.3</td>\n",
       "    </tr>\n",
       "    <tr>\n",
       "      <th>2</th>\n",
       "      <td>Average Female Height (cm)</td>\n",
       "      <td>174.6</td>\n",
       "      <td>174.3</td>\n",
       "      <td>174.8</td>\n",
       "      <td>174.3</td>\n",
       "    </tr>\n",
       "    <tr>\n",
       "      <th>3</th>\n",
       "      <td>Average Female Weight (kg)</td>\n",
       "      <td>67.3</td>\n",
       "      <td>67.1</td>\n",
       "      <td>67.9</td>\n",
       "      <td>67.6</td>\n",
       "    </tr>\n",
       "  </tbody>\n",
       "</table>\n",
       "</div>"
      ],
      "text/plain": [
       "                     Features  Original Dataset  Method 1  Method 2  Method 3\n",
       "0    Average Male Height (cm)             185.5     185.0     184.8     185.3\n",
       "1    Average Male Weight (kg)              82.5      81.9      82.0      82.3\n",
       "2  Average Female Height (cm)             174.6     174.3     174.8     174.3\n",
       "3  Average Female Weight (kg)              67.3      67.1      67.9      67.6"
      ]
     },
     "execution_count": 28,
     "metadata": {},
     "output_type": "execute_result"
    }
   ],
   "source": [
    "avgs  = pd.DataFrame(data = ['Average Male Height (cm)', 'Average Male Weight (kg)', 'Average Female Height (cm)', 'Average Female Weight (kg)'], columns = ['Features'])\n",
    "avgs['Original Dataset'] = [avg_male_height, avg_male_weight, avg_female_height, avg_female_weight]\n",
    "avgs['Method 1'] = [data_nulls_male['Ht'].mean().round(1), data_nulls_male['Wt'].mean().round(1), data_nulls_female['Ht'].mean().round(1), data_nulls_female['Wt'].mean().round(1)]\n",
    "avgs['Method 2'] = [avg_height_males_2, avg_weight_males_2, avg_height_females_2, avg_weight_females_2]\n",
    "avgs['Method 3'] = [avg_height_males_3, avg_weight_males_3, avg_height_females_3, avg_weight_females_3]\n",
    "avgs"
   ]
  }
 ],
 "metadata": {
  "kernelspec": {
   "display_name": "Python 3 (ipykernel)",
   "language": "python",
   "name": "python3"
  },
  "language_info": {
   "codemirror_mode": {
    "name": "ipython",
    "version": 3
   },
   "file_extension": ".py",
   "mimetype": "text/x-python",
   "name": "python",
   "nbconvert_exporter": "python",
   "pygments_lexer": "ipython3",
   "version": "3.11.7"
  }
 },
 "nbformat": 4,
 "nbformat_minor": 5
}
