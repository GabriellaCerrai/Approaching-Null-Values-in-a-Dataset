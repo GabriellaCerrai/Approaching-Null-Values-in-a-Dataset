{
 "cells": [
  {
   "cell_type": "markdown",
   "id": "4abe7c40-e1d3-4fdc-9c9a-e905052f21a4",
   "metadata": {},
   "source": [
    "#### Null Values in a Dataset\n",
    "##### This is a 'method of working' notebook. The code below is a breakdown of how the weights and heights were first calculated for both males and females separately (before combining the functions and calculations into *one for loop* - as seen in the previous notebook under 'Method 3' - 'athlete_data_nulls.ipynb')."
   ]
  },
  {
   "cell_type": "code",
   "execution_count": 1,
   "id": "7c04fa7a-ac8e-44dc-971f-1821a8da50b6",
   "metadata": {},
   "outputs": [],
   "source": [
    "import pandas as pd \n",
    "import numpy as np\n",
    "import warnings\n",
    "warnings.filterwarnings('ignore')"
   ]
  },
  {
   "cell_type": "code",
   "execution_count": 2,
   "id": "68ba515a-1da3-48bc-8dbe-b468fceb318a",
   "metadata": {},
   "outputs": [
    {
     "data": {
      "text/html": [
       "<div>\n",
       "<style scoped>\n",
       "    .dataframe tbody tr th:only-of-type {\n",
       "        vertical-align: middle;\n",
       "    }\n",
       "\n",
       "    .dataframe tbody tr th {\n",
       "        vertical-align: top;\n",
       "    }\n",
       "\n",
       "    .dataframe thead th {\n",
       "        text-align: right;\n",
       "    }\n",
       "</style>\n",
       "<table border=\"1\" class=\"dataframe\">\n",
       "  <thead>\n",
       "    <tr style=\"text-align: right;\">\n",
       "      <th></th>\n",
       "      <th>Sex</th>\n",
       "      <th>Ht</th>\n",
       "      <th>Wt</th>\n",
       "      <th>LBM</th>\n",
       "      <th>WCC</th>\n",
       "      <th>Hc</th>\n",
       "      <th>Hg</th>\n",
       "    </tr>\n",
       "  </thead>\n",
       "  <tbody>\n",
       "    <tr>\n",
       "      <th>0</th>\n",
       "      <td>1</td>\n",
       "      <td>148.9</td>\n",
       "      <td>37.8</td>\n",
       "      <td>34.36</td>\n",
       "      <td>4.9</td>\n",
       "      <td>36.0</td>\n",
       "      <td>12.5</td>\n",
       "    </tr>\n",
       "    <tr>\n",
       "      <th>1</th>\n",
       "      <td>1</td>\n",
       "      <td>NaN</td>\n",
       "      <td>45.1</td>\n",
       "      <td>39.03</td>\n",
       "      <td>6.4</td>\n",
       "      <td>42.8</td>\n",
       "      <td>14.5</td>\n",
       "    </tr>\n",
       "    <tr>\n",
       "      <th>2</th>\n",
       "      <td>1</td>\n",
       "      <td>156.0</td>\n",
       "      <td>49.8</td>\n",
       "      <td>41.54</td>\n",
       "      <td>7.5</td>\n",
       "      <td>38.4</td>\n",
       "      <td>13.2</td>\n",
       "    </tr>\n",
       "    <tr>\n",
       "      <th>3</th>\n",
       "      <td>1</td>\n",
       "      <td>156.9</td>\n",
       "      <td>43.8</td>\n",
       "      <td>38.30</td>\n",
       "      <td>5.0</td>\n",
       "      <td>40.7</td>\n",
       "      <td>14.0</td>\n",
       "    </tr>\n",
       "    <tr>\n",
       "      <th>4</th>\n",
       "      <td>1</td>\n",
       "      <td>157.9</td>\n",
       "      <td>45.8</td>\n",
       "      <td>41.93</td>\n",
       "      <td>6.4</td>\n",
       "      <td>40.9</td>\n",
       "      <td>13.9</td>\n",
       "    </tr>\n",
       "  </tbody>\n",
       "</table>\n",
       "</div>"
      ],
      "text/plain": [
       "   Sex     Ht    Wt    LBM  WCC    Hc    Hg\n",
       "0    1  148.9  37.8  34.36  4.9  36.0  12.5\n",
       "1    1    NaN  45.1  39.03  6.4  42.8  14.5\n",
       "2    1  156.0  49.8  41.54  7.5  38.4  13.2\n",
       "3    1  156.9  43.8  38.30  5.0  40.7  14.0\n",
       "4    1  157.9  45.8  41.93  6.4  40.9  13.9"
      ]
     },
     "execution_count": 2,
     "metadata": {},
     "output_type": "execute_result"
    }
   ],
   "source": [
    "data_nulls = pd.read_excel('athlete_data_nulls.xlsx')\n",
    "data_nulls.head()"
   ]
  },
  {
   "cell_type": "code",
   "execution_count": 3,
   "id": "c6ade893-c6ea-4baa-a055-4d46d2ad1604",
   "metadata": {},
   "outputs": [
    {
     "data": {
      "text/plain": [
       "Sex     0\n",
       "Ht     16\n",
       "Wt     16\n",
       "LBM     0\n",
       "WCC     0\n",
       "Hc      0\n",
       "Hg      0\n",
       "dtype: int64"
      ]
     },
     "execution_count": 3,
     "metadata": {},
     "output_type": "execute_result"
    }
   ],
   "source": [
    "data_nulls.isnull().sum()"
   ]
  },
  {
   "cell_type": "code",
   "execution_count": 4,
   "id": "7fe0dc25-040b-4218-ae8e-650cd210b11d",
   "metadata": {},
   "outputs": [],
   "source": [
    "# split dataset\n",
    "data_nulls_male = data_nulls[data_nulls['Sex'] == 0]\n",
    "data_nulls_female = data_nulls[data_nulls['Sex'] == 1]"
   ]
  },
  {
   "cell_type": "code",
   "execution_count": 5,
   "id": "7b0b8a0d-de38-450f-acc8-507d86ab0a1c",
   "metadata": {},
   "outputs": [
    {
     "data": {
      "text/plain": [
       "Sex    0\n",
       "Ht     6\n",
       "Wt     7\n",
       "LBM    0\n",
       "WCC    0\n",
       "Hc     0\n",
       "Hg     0\n",
       "dtype: int64"
      ]
     },
     "execution_count": 5,
     "metadata": {},
     "output_type": "execute_result"
    }
   ],
   "source": [
    "data_nulls_male.isnull().sum()"
   ]
  },
  {
   "cell_type": "code",
   "execution_count": 6,
   "id": "bcaceee1-b629-4c8f-abd6-968465dd43fa",
   "metadata": {},
   "outputs": [
    {
     "data": {
      "text/plain": [
       "Sex     0\n",
       "Ht     10\n",
       "Wt      9\n",
       "LBM     0\n",
       "WCC     0\n",
       "Hc      0\n",
       "Hg      0\n",
       "dtype: int64"
      ]
     },
     "execution_count": 6,
     "metadata": {},
     "output_type": "execute_result"
    }
   ],
   "source": [
    "data_nulls_female.isnull().sum()"
   ]
  },
  {
   "cell_type": "code",
   "execution_count": 7,
   "id": "1e20efdf-fe42-4617-93e5-1a1ff3a04652",
   "metadata": {},
   "outputs": [],
   "source": [
    "# define a function to calculate height:\n",
    "def bmi_calc_height(weight):\n",
    "    height = (np.sqrt(weight/bmi))*100\n",
    "    return height"
   ]
  },
  {
   "cell_type": "code",
   "execution_count": 8,
   "id": "14f02e45-8a3e-4b69-a8db-e6facffa542b",
   "metadata": {},
   "outputs": [],
   "source": [
    "# define a function that calculates weight:\n",
    "def bmi_calc_weight(height):\n",
    "    height /= 100\n",
    "    weight = bmi * (height)**2\n",
    "    return weight"
   ]
  },
  {
   "cell_type": "code",
   "execution_count": 9,
   "id": "0db87b90-31d2-4d0c-a472-ff7e7792345a",
   "metadata": {},
   "outputs": [],
   "source": [
    "# industry averages for BMI:\n",
    "bmi_avg_males = 23.6\n",
    "bmi_avg_females = 22.4"
   ]
  },
  {
   "cell_type": "code",
   "execution_count": 15,
   "id": "2e65c061-52ff-41bf-b837-bd1e9d1e712f",
   "metadata": {},
   "outputs": [],
   "source": [
    "# populating null height values for males: \n",
    "for idx, i in data_nulls_male['Ht'].items():\n",
    "    if pd.isnull(i):  \n",
    "        bmi    = bmi_avg_males\n",
    "        weight = data_nulls_male.loc[idx, 'Wt']\n",
    "        height = bmi_calc_height(weight)\n",
    "        data_nulls_male.at[idx, 'Ht'] = height\n",
    "        print(height)\n",
    "\n",
    "# print(round(data_nulls_male_3,1))"
   ]
  },
  {
   "cell_type": "code",
   "execution_count": 14,
   "id": "9fc303d2-5c04-4815-a4d2-f1d8be8f36a2",
   "metadata": {},
   "outputs": [
    {
     "name": "stdout",
     "output_type": "stream",
     "text": [
      "73.51930999999999\n",
      "80.8583436\n",
      "83.5005996\n",
      "86.99904000000001\n",
      "87.72554240000002\n",
      "88.91255159999999\n",
      "94.7779776\n"
     ]
    }
   ],
   "source": [
    "# populating null weight values for males: \n",
    "for idx, i in data_nulls_male['Wt'].items():\n",
    "    if pd.isnull(i):  \n",
    "        bmi   = bmi_avg_males\n",
    "        height = data_nulls_male.loc[idx, 'Ht']\n",
    "        weight = bmi_calc_weight(height)\n",
    "        data_nulls_male.at[idx, 'Wt'] = weight\n",
    "        print(weight)\n",
    "\n",
    "# print(round(data_nulls_male_3,1))"
   ]
  },
  {
   "cell_type": "code",
   "execution_count": 16,
   "id": "fc38a5f1-e414-48cf-a823-c1c869351974",
   "metadata": {},
   "outputs": [
    {
     "name": "stdout",
     "output_type": "stream",
     "text": [
      "141.8940751808495\n",
      "163.79974707812323\n",
      "163.66341767699427\n",
      "156.83817866104633\n",
      "175.3185875566454\n",
      "182.98126367784997\n",
      "175.6365972276686\n",
      "167.5719461689729\n",
      "187.20214437111252\n",
      "182.2478688881868\n"
     ]
    }
   ],
   "source": [
    "# populating null height values for females: \n",
    "for idx, i in data_nulls_female['Ht'].items():\n",
    "    if pd.isnull(i):  \n",
    "        bmi    = bmi_avg_females\n",
    "        weight = data_nulls_female.loc[idx, 'Wt']\n",
    "        height = bmi_calc_height(weight)\n",
    "        data_nulls_female.at[idx, 'Ht'] = height\n",
    "        print(height)\n",
    "\n",
    "# print(round(data_nulls_female_3,1))"
   ]
  },
  {
   "cell_type": "code",
   "execution_count": 18,
   "id": "f3bcf47c-e795-4865-b272-7018ffac10dd",
   "metadata": {},
   "outputs": [
    {
     "name": "stdout",
     "output_type": "stream",
     "text": [
      "56.55823039999999\n",
      "58.78656000000001\n",
      "63.146518400000005\n",
      "66.7313024\n",
      "67.27367360000001\n",
      "70.0184576\n",
      "72.33428159999998\n",
      "72.97976\n",
      "85.96405440000001\n"
     ]
    }
   ],
   "source": [
    "# populating null weight values for females: \n",
    "for idx, i in data_nulls_female['Wt'].items():\n",
    "    if pd.isnull(i):  \n",
    "        bmi   = bmi_avg_females\n",
    "        height = data_nulls_female.loc[idx, 'Ht']\n",
    "        weight = bmi_calc_weight(height)\n",
    "        data_nulls_female.at[idx, 'Wt'] = weight\n",
    "        print(weight)\n",
    "\n",
    "# print(round(data_nulls_female_3,1))"
   ]
  },
  {
   "cell_type": "code",
   "execution_count": 23,
   "id": "92da7a2e-8216-4897-9c4f-5557bcbd43a7",
   "metadata": {},
   "outputs": [
    {
     "data": {
      "text/plain": [
       "Ht    185.3\n",
       "Wt     82.3\n",
       "dtype: float64"
      ]
     },
     "execution_count": 23,
     "metadata": {},
     "output_type": "execute_result"
    }
   ],
   "source": [
    "data_nulls_male[['Ht', 'Wt']].mean().round(1)"
   ]
  },
  {
   "cell_type": "code",
   "execution_count": 24,
   "id": "68d7fe43-81dc-4464-93d9-eeea09867140",
   "metadata": {},
   "outputs": [
    {
     "data": {
      "text/plain": [
       "Ht    174.3\n",
       "Wt     67.6\n",
       "dtype: float64"
      ]
     },
     "execution_count": 24,
     "metadata": {},
     "output_type": "execute_result"
    }
   ],
   "source": [
    "data_nulls_female[['Ht', 'Wt']].mean().round(1)"
   ]
  }
 ],
 "metadata": {
  "kernelspec": {
   "display_name": "Python 3 (ipykernel)",
   "language": "python",
   "name": "python3"
  },
  "language_info": {
   "codemirror_mode": {
    "name": "ipython",
    "version": 3
   },
   "file_extension": ".py",
   "mimetype": "text/x-python",
   "name": "python",
   "nbconvert_exporter": "python",
   "pygments_lexer": "ipython3",
   "version": "3.11.7"
  }
 },
 "nbformat": 4,
 "nbformat_minor": 5
}
